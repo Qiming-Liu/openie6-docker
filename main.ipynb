{
 "cells": [
  {
   "cell_type": "code",
   "execution_count": 9,
   "id": "b8821466",
   "metadata": {},
   "outputs": [],
   "source": [
    "import os\n",
    "import run\n",
    "from flask import Flask"
   ]
  },
  {
   "cell_type": "code",
   "execution_count": 10,
   "id": "cdafabf4",
   "metadata": {},
   "outputs": [],
   "source": [
    "def openie6(str):\n",
    "    with open('sentences.txt','w') as fw:\n",
    "        fw.write(str)\n",
    "    os.system(\"python run.py --mode splitpredict --inp sentences.txt --out predictions.txt --rescoring --task oie --gpus 0 --oie_model models/oie_model/epoch=14_eval_acc=0.551_v0.ckpt --conj_model models/conj_model/epoch=28_eval_acc=0.854.ckpt --rescore_model models/rescore_model --num_extractions 5\")\n",
    "    fr = open(\"predictions.txt\",encoding = \"utf-8\")\n",
    "    print(fr.read())\n",
    "    return fr.read()"
   ]
  },
  {
   "cell_type": "code",
   "execution_count": 11,
   "id": "64b79a30",
   "metadata": {},
   "outputs": [],
   "source": [
    "app = Flask(__name__)\n",
    "\n",
    "@app.route(\"/<str>\")\n",
    "def hello_world():\n",
    "    return openie6({str})"
   ]
  },
  {
   "cell_type": "code",
   "execution_count": null,
   "id": "651298fe",
   "metadata": {},
   "outputs": [],
   "source": [
    "openie6()"
   ]
  }
 ],
 "metadata": {
  "kernelspec": {
   "display_name": "Python 3",
   "language": "python",
   "name": "python3"
  },
  "language_info": {
   "codemirror_mode": {
    "name": "ipython",
    "version": 3
   },
   "file_extension": ".py",
   "mimetype": "text/x-python",
   "name": "python",
   "nbconvert_exporter": "python",
   "pygments_lexer": "ipython3",
   "version": "3.6.13"
  }
 },
 "nbformat": 4,
 "nbformat_minor": 5
}
